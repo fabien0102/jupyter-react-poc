{
 "cells": [
  {
   "cell_type": "code",
   "execution_count": 1,
   "metadata": {},
   "outputs": [],
   "source": [
    "import ipywidgets as widgets\n",
    "from traitlets import Unicode\n",
    "\n",
    "class HelloWidget(widgets.DOMWidget):\n",
    "    _view_name = Unicode('HelloView').tag(sync=True)\n",
    "    _view_module = Unicode('hello').tag(sync=True)\n",
    "    _view_module_version = Unicode('0.1.0').tag(sync=True)\n",
    "    value = Unicode().tag(sync=True)\n",
    "    def __init__(self, value, **kwargs):\n",
    "        super(HelloWidget, self).__init__(**kwargs)\n",
    "        self.value = value"
   ]
  },
  {
   "cell_type": "code",
   "execution_count": 2,
   "metadata": {},
   "outputs": [
    {
     "data": {
      "application/javascript": [
       "\n",
       "require.config({\n",
       "    paths: {\n",
       "        'react': 'https://cdnjs.cloudflare.com/ajax/libs/react/16.4.2/umd/react.production.min',\n",
       "        'react-dom': 'https://cdnjs.cloudflare.com/ajax/libs/react-dom/16.4.2/umd/react-dom.production.min'\n",
       "    }\n",
       "})"
      ],
      "text/plain": [
       "<IPython.core.display.Javascript object>"
      ]
     },
     "metadata": {},
     "output_type": "display_data"
    }
   ],
   "source": [
    "%%javascript\n",
    "\n",
    "require.config({\n",
    "    paths: {\n",
    "        'react': 'https://cdnjs.cloudflare.com/ajax/libs/react/16.4.2/umd/react.production.min',\n",
    "        'react-dom': 'https://cdnjs.cloudflare.com/ajax/libs/react-dom/16.4.2/umd/react-dom.production.min'\n",
    "    }\n",
    "})"
   ]
  },
  {
   "cell_type": "code",
   "execution_count": 8,
   "metadata": {},
   "outputs": [
    {
     "data": {
      "application/javascript": [
       "\n",
       "require.undef('hello')\n",
       "define(\"hello\", [\"@jupyter-widgets/base\", \"react\", \"react-dom\"], function(widgets, React, ReactDOM ) {\n",
       "  // React helper\n",
       "  const e = React.createElement;\n",
       "\n",
       "  // Backbone wrapper\n",
       "  const HelloView = widgets.DOMWidgetView.extend({\n",
       "    initialize() {\n",
       "      const backbone = this;\n",
       "\n",
       "      class Hello extends React.Component {\n",
       "        constructor(props) {\n",
       "          super(props);\n",
       "          this.state = {\n",
       "            value: backbone.model.get(\"value\")\n",
       "          };\n",
       "        }\n",
       "\n",
       "        onChange(model) {\n",
       "          this.setState(model.changed);\n",
       "        }\n",
       "\n",
       "        componentDidMount() {\n",
       "          backbone.listenTo(backbone.model, \"change\", this.onChange.bind(this));\n",
       "        }\n",
       "\n",
       "        render() {\n",
       "          return e(\"h1\", {}, `Hello ${this.state.value}`);\n",
       "        }\n",
       "      }\n",
       "      const $app = document.createElement(\"div\");\n",
       "      const App = e(Hello);\n",
       "      ReactDOM.render(App, $app);\n",
       "\n",
       "      backbone.el.append($app);\n",
       "    }\n",
       "  });\n",
       "\n",
       "  return {\n",
       "    HelloView\n",
       "  };\n",
       "});\n"
      ],
      "text/plain": [
       "<IPython.core.display.Javascript object>"
      ]
     },
     "metadata": {},
     "output_type": "display_data"
    }
   ],
   "source": [
    "%%javascript\n",
    "\n",
    "require.undef('hello')\n",
    "define(\"hello\", [\"@jupyter-widgets/base\", \"react\", \"react-dom\"], function(widgets, React, ReactDOM ) {\n",
    "  // React helper\n",
    "  const e = React.createElement;\n",
    "\n",
    "  // Backbone wrapper\n",
    "  const HelloView = widgets.DOMWidgetView.extend({\n",
    "    initialize() {\n",
    "      const backbone = this;\n",
    "\n",
    "      class Hello extends React.Component {\n",
    "        constructor(props) {\n",
    "          super(props);\n",
    "          this.state = {\n",
    "            value: backbone.model.get(\"value\")\n",
    "          };\n",
    "        }\n",
    "\n",
    "        onChange(model) {\n",
    "          this.setState(model.changed);\n",
    "        }\n",
    "\n",
    "        componentDidMount() {\n",
    "          backbone.listenTo(backbone.model, \"change\", this.onChange.bind(this));\n",
    "        }\n",
    "\n",
    "        render() {\n",
    "          return e(\"h1\", {}, `Hello ${this.state.value}`);\n",
    "        }\n",
    "      }\n",
    "      const $app = document.createElement(\"div\");\n",
    "      const App = e(Hello);\n",
    "      ReactDOM.render(App, $app);\n",
    "\n",
    "      backbone.el.append($app);\n",
    "    }\n",
    "  });\n",
    "\n",
    "  return {\n",
    "    HelloView\n",
    "  };\n",
    "});\n",
    "\n"
   ]
  },
  {
   "cell_type": "code",
   "execution_count": 9,
   "metadata": {},
   "outputs": [
    {
     "data": {
      "application/vnd.jupyter.widget-view+json": {
       "model_id": "d8692fed2e9c4b6fbce5b7cad5fffe21",
       "version_major": 2,
       "version_minor": 0
      },
      "text/plain": [
       "HelloWidget(value='fabien')"
      ]
     },
     "metadata": {},
     "output_type": "display_data"
    }
   ],
   "source": [
    "w = HelloWidget(value=\"fabien\")\n",
    "w"
   ]
  },
  {
   "cell_type": "code",
   "execution_count": 7,
   "metadata": {},
   "outputs": [],
   "source": [
    "w.value = \"tejas\""
   ]
  }
 ],
 "metadata": {
  "kernelspec": {
   "display_name": "Python 3",
   "language": "python",
   "name": "python3"
  },
  "language_info": {
   "codemirror_mode": {
    "name": "ipython",
    "version": 3
   },
   "file_extension": ".py",
   "mimetype": "text/x-python",
   "name": "python",
   "nbconvert_exporter": "python",
   "pygments_lexer": "ipython3",
   "version": "3.6.3"
  }
 },
 "nbformat": 4,
 "nbformat_minor": 2
}
